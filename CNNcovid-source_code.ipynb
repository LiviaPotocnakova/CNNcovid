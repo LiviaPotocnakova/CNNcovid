{
 "cells": [
  {
   "cell_type": "markdown",
   "metadata": {},
   "source": [
    "# CNN for COVID detection from CT lung scans"
   ]
  },
  {
   "cell_type": "markdown",
   "metadata": {},
   "source": [
    "#### Lívia Potočňáková, TUKE, FEI, HI"
   ]
  },
  {
   "cell_type": "code",
   "execution_count": 2,
   "metadata": {},
   "outputs": [],
   "source": [
    "# import libraries and functions\n",
    "import cv2\n",
    "import os\n",
    "import pandas as pd\n",
    "import matplotlib.pyplot as plt\n",
    "import numpy as np\n",
    "import tensorflow as tf\n",
    "from tensorflow import keras\n",
    "from tqdm import tqdm\n",
    "from sklearn.model_selection import train_test_split\n",
    "from tensorflow.keras.models import Model, Sequential, load_model\n",
    "from tensorflow.keras.layers import Dense, Dropout, Flatten, Conv2D, MaxPool2D\n",
    "from tensorflow.keras.optimizers import Adam\n",
    "from tensorflow.keras.callbacks import ModelCheckpoint\n",
    "from sklearn.metrics import classification_report, confusion_matrix"
   ]
  },
  {
   "cell_type": "code",
   "execution_count": null,
   "metadata": {},
   "outputs": [],
   "source": [
    "from keras.preprocessing.image import load_img, img_to_array\n",
    "from keras.models import Model\n",
    "from numpy import expand_dims"
   ]
  },
  {
   "cell_type": "markdown",
   "metadata": {},
   "source": [
    "## 1. Data preparation"
   ]
  },
  {
   "cell_type": "code",
   "execution_count": 3,
   "metadata": {},
   "outputs": [],
   "source": [
    "# set constants\n",
    "SEED = 42\n",
    "IMAGE_SIZE = 64"
   ]
  },
  {
   "cell_type": "code",
   "execution_count": 94,
   "metadata": {},
   "outputs": [],
   "source": [
    "# define variables\n",
    "disease_types=['COVID', 'non-COVID']\n",
    "\n",
    "# set the path to the directory containing both classes\n",
    "source_dir = r'D:\\\\Bakalarka\\original_dataset'\n",
    "data_dir = os.path.join(source_dir)"
   ]
  },
  {
   "cell_type": "code",
   "execution_count": 5,
   "metadata": {},
   "outputs": [
    {
     "data": {
      "text/html": [
       "<div>\n",
       "<style scoped>\n",
       "    .dataframe tbody tr th:only-of-type {\n",
       "        vertical-align: middle;\n",
       "    }\n",
       "\n",
       "    .dataframe tbody tr th {\n",
       "        vertical-align: top;\n",
       "    }\n",
       "\n",
       "    .dataframe thead th {\n",
       "        text-align: right;\n",
       "    }\n",
       "</style>\n",
       "<table border=\"1\" class=\"dataframe\">\n",
       "  <thead>\n",
       "    <tr style=\"text-align: right;\">\n",
       "      <th></th>\n",
       "      <th>File</th>\n",
       "      <th>DiseaseID</th>\n",
       "    </tr>\n",
       "  </thead>\n",
       "  <tbody>\n",
       "    <tr>\n",
       "      <th>0</th>\n",
       "      <td>COVID/Covid (1).png</td>\n",
       "      <td>0</td>\n",
       "    </tr>\n",
       "    <tr>\n",
       "      <th>1</th>\n",
       "      <td>COVID/Covid (10).png</td>\n",
       "      <td>0</td>\n",
       "    </tr>\n",
       "    <tr>\n",
       "      <th>2</th>\n",
       "      <td>COVID/Covid (100).png</td>\n",
       "      <td>0</td>\n",
       "    </tr>\n",
       "    <tr>\n",
       "      <th>3</th>\n",
       "      <td>COVID/Covid (1000).png</td>\n",
       "      <td>0</td>\n",
       "    </tr>\n",
       "    <tr>\n",
       "      <th>4</th>\n",
       "      <td>COVID/Covid (1001).png</td>\n",
       "      <td>0</td>\n",
       "    </tr>\n",
       "  </tbody>\n",
       "</table>\n",
       "</div>"
      ],
      "text/plain": [
       "                     File  DiseaseID\n",
       "0     COVID/Covid (1).png          0\n",
       "1    COVID/Covid (10).png          0\n",
       "2   COVID/Covid (100).png          0\n",
       "3  COVID/Covid (1000).png          0\n",
       "4  COVID/Covid (1001).png          0"
      ]
     },
     "execution_count": 5,
     "metadata": {},
     "output_type": "execute_result"
    }
   ],
   "source": [
    "# create an array containing all data and binary class\n",
    "# 0 is assigned with class COVID\n",
    "# 1 is assigned with class non-COVID\n",
    "all_data = []\n",
    "for defects_id, sp in enumerate(disease_types):\n",
    "    for file in os.listdir(os.path.join(data_dir, sp)):\n",
    "        all_data.append(['{}/{}'.format(sp, file), defects_id])      \n",
    "        \n",
    "# transform the array to a dataframe\n",
    "data = pd.DataFrame(all_data, columns=['File', 'DiseaseID'])\n",
    "data.head()"
   ]
  },
  {
   "cell_type": "code",
   "execution_count": 6,
   "metadata": {},
   "outputs": [
    {
     "data": {
      "text/html": [
       "<div>\n",
       "<style scoped>\n",
       "    .dataframe tbody tr th:only-of-type {\n",
       "        vertical-align: middle;\n",
       "    }\n",
       "\n",
       "    .dataframe tbody tr th {\n",
       "        vertical-align: top;\n",
       "    }\n",
       "\n",
       "    .dataframe thead th {\n",
       "        text-align: right;\n",
       "    }\n",
       "</style>\n",
       "<table border=\"1\" class=\"dataframe\">\n",
       "  <thead>\n",
       "    <tr style=\"text-align: right;\">\n",
       "      <th></th>\n",
       "      <th>File</th>\n",
       "      <th>DiseaseID</th>\n",
       "    </tr>\n",
       "  </thead>\n",
       "  <tbody>\n",
       "    <tr>\n",
       "      <th>0</th>\n",
       "      <td>COVID/Covid (1227).png</td>\n",
       "      <td>0</td>\n",
       "    </tr>\n",
       "    <tr>\n",
       "      <th>1</th>\n",
       "      <td>COVID/Covid (430).png</td>\n",
       "      <td>0</td>\n",
       "    </tr>\n",
       "    <tr>\n",
       "      <th>2</th>\n",
       "      <td>non-COVID/Non-Covid (322).png</td>\n",
       "      <td>1</td>\n",
       "    </tr>\n",
       "    <tr>\n",
       "      <th>3</th>\n",
       "      <td>non-COVID/Non-Covid (379).png</td>\n",
       "      <td>1</td>\n",
       "    </tr>\n",
       "    <tr>\n",
       "      <th>4</th>\n",
       "      <td>COVID/Covid (609).png</td>\n",
       "      <td>0</td>\n",
       "    </tr>\n",
       "  </tbody>\n",
       "</table>\n",
       "</div>"
      ],
      "text/plain": [
       "                            File  DiseaseID\n",
       "0         COVID/Covid (1227).png          0\n",
       "1          COVID/Covid (430).png          0\n",
       "2  non-COVID/Non-Covid (322).png          1\n",
       "3  non-COVID/Non-Covid (379).png          1\n",
       "4          COVID/Covid (609).png          0"
      ]
     },
     "execution_count": 6,
     "metadata": {},
     "output_type": "execute_result"
    }
   ],
   "source": [
    "# rearrange the data randomly using set seed\n",
    "data = data.sample(frac=1, random_state=SEED) \n",
    "data.index = np.arange(len(data)) # Reset indices\n",
    "data.head()"
   ]
  },
  {
   "cell_type": "code",
   "execution_count": 22,
   "metadata": {},
   "outputs": [
    {
     "data": {
      "text/plain": [
       "<BarContainer object of 2 artists>"
      ]
     },
     "execution_count": 22,
     "metadata": {},
     "output_type": "execute_result"
    },
    {
     "data": {
      "image/png": "[encoded data removed]",
      "text/plain": [
       "<Figure size 432x288 with 1 Axes>"
      ]
     },
     "metadata": {
      "needs_background": "light"
     },
     "output_type": "display_data"
    }
   ],
   "source": [
    "# set colors for charts\n",
    "colors = ['#ffcccc','#cfccff','#fdffcc']\n",
    "\n",
    "# display histogram of class distribution\n",
    "counted = data.groupby('DiseaseID').count()\n",
    "counted\n",
    "values = list(counted['File'])\n",
    "plt.bar(['COVID', 'non-COVID'], values, color = colors)"
   ]
  },
  {
   "cell_type": "code",
   "execution_count": 14,
   "metadata": {},
   "outputs": [],
   "source": [
    "# function for reading images and changing them to black&white\n",
    "def read_image(filepath):\n",
    "    image = cv2.imread(os.path.join(data_dir, filepath))\n",
    "    image = cv2.cvtColor(image, cv2.COLOR_BGR2GRAY)\n",
    "    return image\n",
    "\n",
    "# function for resizing the images\n",
    "def resize_image(image, image_size):\n",
    "    return cv2.resize(image.copy(), image_size, interpolation=cv2.INTER_AREA)"
   ]
  },
  {
   "cell_type": "code",
   "execution_count": 15,
   "metadata": {},
   "outputs": [
    {
     "name": "stderr",
     "output_type": "stream",
     "text": [
      "2481it [00:29, 84.13it/s]"
     ]
    },
    {
     "name": "stdout",
     "output_type": "stream",
     "text": [
      "Data Shape: (2481, 64, 64, 1)\n"
     ]
    },
    {
     "name": "stderr",
     "output_type": "stream",
     "text": [
      "\n"
     ]
    }
   ],
   "source": [
    "# create new dataframe filled with zeros\n",
    "formated_data = np.zeros((data.shape[0], IMAGE_SIZE, IMAGE_SIZE))\n",
    "\n",
    "# resize images and save the to new dataframe\n",
    "for i, file in tqdm(enumerate(data['File'].values)):\n",
    "    image = read_image(file)\n",
    "    if image is not None:\n",
    "       formated_data[i] = resize_image(image, (IMAGE_SIZE, IMAGE_SIZE))\n",
    "\n",
    "# normalize the data and change their shape\n",
    "formated_data = formated_data / 255.\n",
    "formated_data = formated_data.reshape((formated_data.shape[0], formated_data.shape[1],formated_data.shape[2], 1))\n",
    "print('Data Shape: {}'.format(formated_data.shape))"
   ]
  },
  {
   "cell_type": "code",
   "execution_count": 16,
   "metadata": {},
   "outputs": [],
   "source": [
    "# save data labels to separate variable\n",
    "formated_data_labels = data['DiseaseID'].values"
   ]
  },
  {
   "cell_type": "markdown",
   "metadata": {},
   "source": [
    "## 2. Split datasets"
   ]
  },
  {
   "cell_type": "code",
   "execution_count": 17,
   "metadata": {},
   "outputs": [],
   "source": [
    "# split the train and test sets \n",
    "train_data_full, test_data, train_labels_full, test_labels = train_test_split(formated_data, formated_data_labels, test_size=0.2, random_state=SEED)"
   ]
  },
  {
   "cell_type": "code",
   "execution_count": 18,
   "metadata": {},
   "outputs": [],
   "source": [
    "# split the train and validation sets \n",
    "train_data, val_data, train_labels, val_labels = train_test_split(train_data_full, train_labels_full, test_size=0.1, random_state=SEED)"
   ]
  },
  {
   "cell_type": "code",
   "execution_count": 19,
   "metadata": {},
   "outputs": [
    {
     "name": "stdout",
     "output_type": "stream",
     "text": [
      "(1785, 64, 64, 1)\n",
      "(1785,)\n",
      "(497, 64, 64, 1)\n",
      "(497,)\n",
      "(199, 64, 64, 1)\n",
      "(199,)\n"
     ]
    }
   ],
   "source": [
    "print(train_data.shape)\n",
    "print(train_labels.shape)\n",
    "print(test_data.shape)\n",
    "print(test_labels.shape)\n",
    "print(val_data.shape)\n",
    "print(val_labels.shape)"
   ]
  },
  {
   "cell_type": "code",
   "execution_count": 24,
   "metadata": {},
   "outputs": [
    {
     "data": {
      "text/plain": [
       "<matplotlib.axes._subplots.AxesSubplot at 0x27fec227eb0>"
      ]
     },
     "execution_count": 24,
     "metadata": {},
     "output_type": "execute_result"
    },
    {
     "data": {
      "image/png": "[encoded data removed]",
      "text/plain": [
       "<Figure size 360x360 with 1 Axes>"
      ]
     },
     "metadata": {},
     "output_type": "display_data"
    }
   ],
   "source": [
    "# display pie chart of datasets sizes\n",
    "\n",
    "datasets_sizes = pd.DataFrame({'size': [train_data.shape[0], test_data.shape[0], val_data.shape[0]]}, index=['Train', 'Test', 'Validation'])\n",
    "\n",
    "datasets_sizes.plot(kind='pie', y='size', colors = colors, figsize=(5,5),  autopct='%1.1f%%')"
   ]
  },
  {
   "cell_type": "code",
   "execution_count": 66,
   "metadata": {},
   "outputs": [
    {
     "data": {
      "image/png": "[encoded data removed]",
      "text/plain": [
       "<Figure size 720x720 with 3 Axes>"
      ]
     },
     "metadata": {},
     "output_type": "display_data"
    }
   ],
   "source": [
    "# display pie charts of class distribution within the datasets\n",
    "\n",
    "fig, axes = plt.subplots(nrows=1, ncols=3, figsize=(10,10))\n",
    "\n",
    "train = pd.value_counts(train_labels)\n",
    "val = pd.value_counts(val_labels)\n",
    "test = pd.value_counts(test_labels)\n",
    "\n",
    "train_plot = train.plot(kind=\"pie\", ax=axes[0],title=\"train data\", colors= colors, labeldistance = 1.1, autopct='%1.1f%%')\n",
    "val_plot = val.plot(kind=\"pie\", ax=axes[1], title=\"validation data\", colors= colors, labeldistance = 1.1, autopct='%1.1f%%')\n",
    "test_plot = test.plot(kind=\"pie\", ax=axes[2], title=\"test data\", colors= colors, labeldistance = 1.1, autopct='%1.1f%%')\n",
    "\n",
    "train_plot.yaxis.set_visible(False)\n",
    "val_plot.yaxis.set_visible(False)\n",
    "test_plot.yaxis.set_visible(False)"
   ]
  },
  {
   "cell_type": "markdown",
   "metadata": {},
   "source": [
    "## 3. Define the model architecture"
   ]
  },
  {
   "cell_type": "code",
   "execution_count": 80,
   "metadata": {},
   "outputs": [],
   "source": [
    "# build the model\n",
    "model = Sequential()\n",
    "model.add(Conv2D(48, 5, padding = 'same', activation = 'relu', input_shape=(IMAGE_SIZE,IMAGE_SIZE,1)))\n",
    "model.add(MaxPool2D(pool_size = 3, strides = 2))\n",
    "model.add(Conv2D(64, 5, padding = 'same', activation = 'relu'))\n",
    "model.add(MaxPool2D(pool_size = 3, strides = (2,2)))\n",
    "\n",
    "model.add(Conv2D(32, 3, padding = 'same', activation = 'relu'))\n",
    "model.add(Dropout(0.1))\n",
    "model.add(Dense(1024, activation = 'relu'))\n",
    "\n",
    "model.add(Flatten())\n",
    "model.add(Dense(1, activation = 'sigmoid'))"
   ]
  },
  {
   "cell_type": "code",
   "execution_count": 81,
   "metadata": {},
   "outputs": [
    {
     "name": "stdout",
     "output_type": "stream",
     "text": [
      "Model: \"sequential_8\"\n",
      "_________________________________________________________________\n",
      "Layer (type)                 Output Shape              Param #   \n",
      "=================================================================\n",
      "conv2d_24 (Conv2D)           (None, 64, 64, 48)        1248      \n",
      "_________________________________________________________________\n",
      "max_pooling2d_16 (MaxPooling (None, 31, 31, 48)        0         \n",
      "_________________________________________________________________\n",
      "conv2d_25 (Conv2D)           (None, 31, 31, 64)        76864     \n",
      "_________________________________________________________________\n",
      "max_pooling2d_17 (MaxPooling (None, 15, 15, 64)        0         \n",
      "_________________________________________________________________\n",
      "conv2d_26 (Conv2D)           (None, 15, 15, 32)        18464     \n",
      "_________________________________________________________________\n",
      "dropout_7 (Dropout)          (None, 15, 15, 32)        0         \n",
      "_________________________________________________________________\n",
      "dense_16 (Dense)             (None, 15, 15, 1024)      33792     \n",
      "_________________________________________________________________\n",
      "flatten_8 (Flatten)          (None, 230400)            0         \n",
      "_________________________________________________________________\n",
      "dense_17 (Dense)             (None, 1)                 230401    \n",
      "=================================================================\n",
      "Total params: 360,769\n",
      "Trainable params: 360,769\n",
      "Non-trainable params: 0\n",
      "_________________________________________________________________\n"
     ]
    }
   ],
   "source": [
    "# print out the model summary\n",
    "model.summary()"
   ]
  },
  {
   "cell_type": "markdown",
   "metadata": {},
   "source": [
    "## 4. Train the model"
   ]
  },
  {
   "cell_type": "code",
   "execution_count": 82,
   "metadata": {},
   "outputs": [
    {
     "name": "stdout",
     "output_type": "stream",
     "text": [
      "Epoch 1/50\n",
      "28/28 [==============================] - ETA: 0s - loss: 0.6962 - acc: 0.5445\n",
      "Epoch 00001: val_acc improved from -inf to 0.39196, saving model to mymodel.hdf5\n",
      "28/28 [==============================] - 13s 470ms/step - loss: 0.6962 - acc: 0.5445 - val_loss: 0.7591 - val_acc: 0.3920\n",
      "Epoch 2/50\n",
      "28/28 [==============================] - ETA: 0s - loss: 0.6473 - acc: 0.6106\n",
      "Epoch 00002: val_acc improved from 0.39196 to 0.76382, saving model to mymodel.hdf5\n",
      "28/28 [==============================] - 13s 476ms/step - loss: 0.6473 - acc: 0.6106 - val_loss: 0.4946 - val_acc: 0.7638\n",
      "Epoch 3/50\n",
      "28/28 [==============================] - ETA: 0s - loss: 0.5850 - acc: 0.6986\n",
      "Epoch 00003: val_acc improved from 0.76382 to 0.78894, saving model to mymodel.hdf5\n",
      "28/28 [==============================] - 15s 542ms/step - loss: 0.5850 - acc: 0.6986 - val_loss: 0.4325 - val_acc: 0.7889\n",
      "Epoch 4/50\n",
      "28/28 [==============================] - ETA: 0s - loss: 0.5252 - acc: 0.7507\n",
      "Epoch 00004: val_acc did not improve from 0.78894\n",
      "28/28 [==============================] - 12s 428ms/step - loss: 0.5252 - acc: 0.7507 - val_loss: 0.5232 - val_acc: 0.7136\n",
      "Epoch 5/50\n",
      "28/28 [==============================] - ETA: 0s - loss: 0.4851 - acc: 0.7776\n",
      "Epoch 00005: val_acc did not improve from 0.78894\n",
      "28/28 [==============================] - 12s 428ms/step - loss: 0.4851 - acc: 0.7776 - val_loss: 0.5539 - val_acc: 0.6784\n",
      "Epoch 6/50\n",
      "28/28 [==============================] - ETA: 0s - loss: 0.4960 - acc: 0.7636\n",
      "Epoch 00006: val_acc improved from 0.78894 to 0.79899, saving model to mymodel.hdf5\n",
      "28/28 [==============================] - 13s 465ms/step - loss: 0.4960 - acc: 0.7636 - val_loss: 0.4483 - val_acc: 0.7990\n",
      "Epoch 7/50\n",
      "28/28 [==============================] - ETA: 0s - loss: 0.4249 - acc: 0.8101\n",
      "Epoch 00007: val_acc improved from 0.79899 to 0.86432, saving model to mymodel.hdf5\n",
      "28/28 [==============================] - 13s 462ms/step - loss: 0.4249 - acc: 0.8101 - val_loss: 0.3660 - val_acc: 0.8643\n",
      "Epoch 8/50\n",
      "28/28 [==============================] - ETA: 0s - loss: 0.3882 - acc: 0.8297\n",
      "Epoch 00008: val_acc did not improve from 0.86432\n",
      "28/28 [==============================] - 13s 461ms/step - loss: 0.3882 - acc: 0.8297 - val_loss: 0.3518 - val_acc: 0.8543\n",
      "Epoch 9/50\n",
      "28/28 [==============================] - ETA: 0s - loss: 0.3467 - acc: 0.8465\n",
      "Epoch 00009: val_acc improved from 0.86432 to 0.90955, saving model to mymodel.hdf5\n",
      "28/28 [==============================] - 12s 429ms/step - loss: 0.3467 - acc: 0.8465 - val_loss: 0.2317 - val_acc: 0.9095\n",
      "Epoch 10/50\n",
      "28/28 [==============================] - ETA: 0s - loss: 0.3271 - acc: 0.8583\n",
      "Epoch 00010: val_acc improved from 0.90955 to 0.92965, saving model to mymodel.hdf5\n",
      "28/28 [==============================] - 12s 430ms/step - loss: 0.3271 - acc: 0.8583 - val_loss: 0.2430 - val_acc: 0.9296\n",
      "Epoch 11/50\n",
      "28/28 [==============================] - ETA: 0s - loss: 0.2768 - acc: 0.8835\n",
      "Epoch 00011: val_acc did not improve from 0.92965\n",
      "28/28 [==============================] - 12s 437ms/step - loss: 0.2768 - acc: 0.8835 - val_loss: 0.3677 - val_acc: 0.8241\n",
      "Epoch 12/50\n",
      "28/28 [==============================] - ETA: 0s - loss: 0.2428 - acc: 0.9014\n",
      "Epoch 00012: val_acc did not improve from 0.92965\n",
      "28/28 [==============================] - 12s 436ms/step - loss: 0.2428 - acc: 0.9014 - val_loss: 0.1883 - val_acc: 0.9246\n",
      "Epoch 13/50\n",
      "28/28 [==============================] - ETA: 0s - loss: 0.2582 - acc: 0.8880\n",
      "Epoch 00013: val_acc improved from 0.92965 to 0.93970, saving model to mymodel.hdf5\n",
      "28/28 [==============================] - 11s 410ms/step - loss: 0.2582 - acc: 0.8880 - val_loss: 0.1777 - val_acc: 0.9397\n",
      "Epoch 14/50\n",
      "28/28 [==============================] - ETA: 0s - loss: 0.2331 - acc: 0.9048\n",
      "Epoch 00014: val_acc did not improve from 0.93970\n",
      "28/28 [==============================] - 11s 394ms/step - loss: 0.2331 - acc: 0.9048 - val_loss: 0.1822 - val_acc: 0.9045\n",
      "Epoch 15/50\n",
      "28/28 [==============================] - ETA: 0s - loss: 0.2078 - acc: 0.9098\n",
      "Epoch 00015: val_acc did not improve from 0.93970\n",
      "28/28 [==============================] - 12s 436ms/step - loss: 0.2078 - acc: 0.9098 - val_loss: 0.2003 - val_acc: 0.8945\n",
      "Epoch 16/50\n",
      "28/28 [==============================] - ETA: 0s - loss: 0.1809 - acc: 0.9272\n",
      "Epoch 00016: val_acc did not improve from 0.93970\n",
      "28/28 [==============================] - 12s 438ms/step - loss: 0.1809 - acc: 0.9272 - val_loss: 0.2458 - val_acc: 0.8844\n",
      "Epoch 17/50\n",
      "28/28 [==============================] - ETA: 0s - loss: 0.1588 - acc: 0.9417\n",
      "Epoch 00017: val_acc improved from 0.93970 to 0.94975, saving model to mymodel.hdf5\n",
      "28/28 [==============================] - 12s 429ms/step - loss: 0.1588 - acc: 0.9417 - val_loss: 0.1305 - val_acc: 0.9497\n",
      "Epoch 18/50\n",
      "28/28 [==============================] - ETA: 0s - loss: 0.1597 - acc: 0.9356\n",
      "Epoch 00018: val_acc did not improve from 0.94975\n",
      "28/28 [==============================] - 12s 426ms/step - loss: 0.1597 - acc: 0.9356 - val_loss: 0.1140 - val_acc: 0.9497\n",
      "Epoch 19/50\n",
      "28/28 [==============================] - ETA: 0s - loss: 0.1354 - acc: 0.9468\n",
      "Epoch 00019: val_acc did not improve from 0.94975\n",
      "28/28 [==============================] - 12s 441ms/step - loss: 0.1354 - acc: 0.9468 - val_loss: 0.1871 - val_acc: 0.9095\n",
      "Epoch 20/50\n",
      "28/28 [==============================] - ETA: 0s - loss: 0.1506 - acc: 0.9378\n",
      "Epoch 00020: val_acc did not improve from 0.94975\n",
      "28/28 [==============================] - 13s 454ms/step - loss: 0.1506 - acc: 0.9378 - val_loss: 0.1672 - val_acc: 0.9296\n",
      "Epoch 21/50\n",
      "28/28 [==============================] - ETA: 0s - loss: 0.1324 - acc: 0.9468\n",
      "Epoch 00021: val_acc improved from 0.94975 to 0.95980, saving model to mymodel.hdf5\n",
      "28/28 [==============================] - 17s 599ms/step - loss: 0.1324 - acc: 0.9468 - val_loss: 0.1134 - val_acc: 0.9598\n",
      "Epoch 22/50\n",
      "28/28 [==============================] - ETA: 0s - loss: 0.1074 - acc: 0.9625\n",
      "Epoch 00022: val_acc did not improve from 0.95980\n",
      "28/28 [==============================] - 13s 461ms/step - loss: 0.1074 - acc: 0.9625 - val_loss: 0.1334 - val_acc: 0.9196\n",
      "Epoch 23/50\n",
      "28/28 [==============================] - ETA: 0s - loss: 0.0936 - acc: 0.9641\n",
      "Epoch 00023: val_acc did not improve from 0.95980\n",
      "28/28 [==============================] - 12s 427ms/step - loss: 0.0936 - acc: 0.9641 - val_loss: 0.1257 - val_acc: 0.9397\n",
      "Epoch 24/50\n",
      "28/28 [==============================] - ETA: 0s - loss: 0.0859 - acc: 0.9675\n",
      "Epoch 00024: val_acc did not improve from 0.95980\n",
      "28/28 [==============================] - 11s 409ms/step - loss: 0.0859 - acc: 0.9675 - val_loss: 0.1575 - val_acc: 0.9196\n",
      "Epoch 25/50\n",
      "28/28 [==============================] - ETA: 0s - loss: 0.0926 - acc: 0.9686\n",
      "Epoch 00025: val_acc did not improve from 0.95980\n",
      "28/28 [==============================] - 12s 417ms/step - loss: 0.0926 - acc: 0.9686 - val_loss: 0.1642 - val_acc: 0.9095\n",
      "Epoch 26/50\n",
      "28/28 [==============================] - ETA: 0s - loss: 0.0835 - acc: 0.9742\n",
      "Epoch 00026: val_acc did not improve from 0.95980\n",
      "28/28 [==============================] - 12s 434ms/step - loss: 0.0835 - acc: 0.9742 - val_loss: 0.1774 - val_acc: 0.9146\n",
      "Epoch 27/50\n",
      "28/28 [==============================] - ETA: 0s - loss: 0.0689 - acc: 0.9720\n",
      "Epoch 00027: val_acc did not improve from 0.95980\n",
      "28/28 [==============================] - 12s 437ms/step - loss: 0.0689 - acc: 0.9720 - val_loss: 0.1002 - val_acc: 0.9548\n",
      "Epoch 28/50\n",
      "28/28 [==============================] - ETA: 0s - loss: 0.0552 - acc: 0.9821\n",
      "Epoch 00028: val_acc improved from 0.95980 to 0.96482, saving model to mymodel.hdf5\n",
      "28/28 [==============================] - 12s 431ms/step - loss: 0.0552 - acc: 0.9821 - val_loss: 0.0943 - val_acc: 0.9648\n",
      "Epoch 29/50\n",
      "28/28 [==============================] - ETA: 0s - loss: 0.0561 - acc: 0.9782\n",
      "Epoch 00029: val_acc did not improve from 0.96482\n",
      "28/28 [==============================] - 12s 429ms/step - loss: 0.0561 - acc: 0.9782 - val_loss: 0.1093 - val_acc: 0.9548\n",
      "Epoch 30/50\n",
      "28/28 [==============================] - ETA: 0s - loss: 0.0723 - acc: 0.9725\n",
      "Epoch 00030: val_acc improved from 0.96482 to 0.96985, saving model to mymodel.hdf5\n",
      "28/28 [==============================] - 12s 428ms/step - loss: 0.0723 - acc: 0.9725 - val_loss: 0.0701 - val_acc: 0.9698\n",
      "Epoch 31/50\n",
      "28/28 [==============================] - ETA: 0s - loss: 0.0590 - acc: 0.9748\n",
      "Epoch 00031: val_acc did not improve from 0.96985\n",
      "28/28 [==============================] - 12s 431ms/step - loss: 0.0590 - acc: 0.9748 - val_loss: 0.1026 - val_acc: 0.9548\n",
      "Epoch 32/50\n",
      "28/28 [==============================] - ETA: 0s - loss: 0.0679 - acc: 0.9731\n",
      "Epoch 00032: val_acc did not improve from 0.96985\n",
      "28/28 [==============================] - 13s 465ms/step - loss: 0.0679 - acc: 0.9731 - val_loss: 0.1135 - val_acc: 0.9447\n",
      "Epoch 33/50\n",
      "28/28 [==============================] - ETA: 0s - loss: 0.0452 - acc: 0.9854\n",
      "Epoch 00033: val_acc did not improve from 0.96985\n",
      "28/28 [==============================] - 13s 450ms/step - loss: 0.0452 - acc: 0.9854 - val_loss: 0.1566 - val_acc: 0.9296\n",
      "Epoch 34/50\n",
      "28/28 [==============================] - ETA: 0s - loss: 0.0463 - acc: 0.9815\n",
      "Epoch 00034: val_acc did not improve from 0.96985\n",
      "28/28 [==============================] - 12s 440ms/step - loss: 0.0463 - acc: 0.9815 - val_loss: 0.0962 - val_acc: 0.9598\n",
      "Epoch 35/50\n",
      "28/28 [==============================] - ETA: 0s - loss: 0.0611 - acc: 0.9770\n",
      "Epoch 00035: val_acc did not improve from 0.96985\n",
      "28/28 [==============================] - 12s 436ms/step - loss: 0.0611 - acc: 0.9770 - val_loss: 0.0872 - val_acc: 0.9548\n",
      "Epoch 36/50\n",
      "28/28 [==============================] - ETA: 0s - loss: 0.0372 - acc: 0.9899\n",
      "Epoch 00036: val_acc did not improve from 0.96985\n",
      "28/28 [==============================] - 13s 452ms/step - loss: 0.0372 - acc: 0.9899 - val_loss: 0.0616 - val_acc: 0.9698\n",
      "Epoch 37/50\n",
      "28/28 [==============================] - ETA: 0s - loss: 0.0368 - acc: 0.9860\n",
      "Epoch 00037: val_acc did not improve from 0.96985\n",
      "28/28 [==============================] - 12s 434ms/step - loss: 0.0368 - acc: 0.9860 - val_loss: 0.0982 - val_acc: 0.9698\n",
      "Epoch 38/50\n",
      "28/28 [==============================] - ETA: 0s - loss: 0.0312 - acc: 0.9899\n",
      "Epoch 00038: val_acc improved from 0.96985 to 0.98492, saving model to mymodel.hdf5\n",
      "28/28 [==============================] - 12s 432ms/step - loss: 0.0312 - acc: 0.9899 - val_loss: 0.0902 - val_acc: 0.9849\n",
      "Epoch 39/50\n",
      "28/28 [==============================] - ETA: 0s - loss: 0.0413 - acc: 0.9843\n",
      "Epoch 00039: val_acc did not improve from 0.98492\n",
      "28/28 [==============================] - 12s 424ms/step - loss: 0.0413 - acc: 0.9843 - val_loss: 0.0479 - val_acc: 0.9849\n",
      "Epoch 40/50\n",
      "28/28 [==============================] - ETA: 0s - loss: 0.0172 - acc: 0.9955\n",
      "Epoch 00040: val_acc improved from 0.98492 to 0.98995, saving model to mymodel.hdf5\n",
      "28/28 [==============================] - 12s 440ms/step - loss: 0.0172 - acc: 0.9955 - val_loss: 0.0576 - val_acc: 0.9899\n",
      "Epoch 41/50\n",
      "28/28 [==============================] - ETA: 0s - loss: 0.0202 - acc: 0.9927\n",
      "Epoch 00041: val_acc did not improve from 0.98995\n",
      "28/28 [==============================] - 12s 440ms/step - loss: 0.0202 - acc: 0.9927 - val_loss: 0.1710 - val_acc: 0.9196\n",
      "Epoch 42/50\n",
      "28/28 [==============================] - ETA: 0s - loss: 0.0198 - acc: 0.9961\n",
      "Epoch 00042: val_acc did not improve from 0.98995\n",
      "28/28 [==============================] - 12s 440ms/step - loss: 0.0198 - acc: 0.9961 - val_loss: 0.0869 - val_acc: 0.9598\n",
      "Epoch 43/50\n",
      "28/28 [==============================] - ETA: 0s - loss: 0.0187 - acc: 0.9961\n",
      "Epoch 00043: val_acc did not improve from 0.98995\n",
      "28/28 [==============================] - 12s 441ms/step - loss: 0.0187 - acc: 0.9961 - val_loss: 0.0722 - val_acc: 0.9749\n",
      "Epoch 44/50\n",
      "28/28 [==============================] - ETA: 0s - loss: 0.0128 - acc: 0.9978\n",
      "Epoch 00044: val_acc did not improve from 0.98995\n",
      "28/28 [==============================] - 12s 438ms/step - loss: 0.0128 - acc: 0.9978 - val_loss: 0.0587 - val_acc: 0.9799\n",
      "Epoch 45/50\n",
      "28/28 [==============================] - ETA: 0s - loss: 0.0207 - acc: 0.9922\n",
      "Epoch 00045: val_acc did not improve from 0.98995\n",
      "28/28 [==============================] - 13s 450ms/step - loss: 0.0207 - acc: 0.9922 - val_loss: 0.1460 - val_acc: 0.9397\n",
      "Epoch 46/50\n",
      "28/28 [==============================] - ETA: 0s - loss: 0.0207 - acc: 0.9933\n",
      "Epoch 00046: val_acc did not improve from 0.98995\n",
      "28/28 [==============================] - 13s 477ms/step - loss: 0.0207 - acc: 0.9933 - val_loss: 0.0975 - val_acc: 0.9598\n",
      "Epoch 47/50\n",
      "28/28 [==============================] - ETA: 0s - loss: 0.0158 - acc: 0.9950\n",
      "Epoch 00047: val_acc did not improve from 0.98995\n",
      "28/28 [==============================] - 13s 468ms/step - loss: 0.0158 - acc: 0.9950 - val_loss: 0.0587 - val_acc: 0.9799\n",
      "Epoch 48/50\n",
      "28/28 [==============================] - ETA: 0s - loss: 0.0263 - acc: 0.9888\n",
      "Epoch 00048: val_acc did not improve from 0.98995\n",
      "28/28 [==============================] - 13s 472ms/step - loss: 0.0263 - acc: 0.9888 - val_loss: 0.1687 - val_acc: 0.9347\n",
      "Epoch 49/50\n",
      "28/28 [==============================] - ETA: 0s - loss: 0.0406 - acc: 0.9821\n",
      "Epoch 00049: val_acc did not improve from 0.98995\n",
      "28/28 [==============================] - 12s 429ms/step - loss: 0.0406 - acc: 0.9821 - val_loss: 0.2633 - val_acc: 0.8894\n",
      "Epoch 50/50\n",
      "28/28 [==============================] - ETA: 0s - loss: 0.0383 - acc: 0.9843\n",
      "Epoch 00050: val_acc did not improve from 0.98995\n",
      "28/28 [==============================] - 12s 424ms/step - loss: 0.0383 - acc: 0.9843 - val_loss: 0.1021 - val_acc: 0.9548\n"
     ]
    },
    {
     "data": {
      "text/plain": [
       "<tensorflow.python.keras.callbacks.History at 0x1ea2f681460>"
      ]
     },
     "execution_count": 82,
     "metadata": {},
     "output_type": "execute_result"
    }
   ],
   "source": [
    "model.compile(loss = 'binary_crossentropy', optimizer = 'adam', metrics = ['acc'])\n",
    "\n",
    "saved_model = \"mymodel.hdf5\"\n",
    "checkpoint = ModelCheckpoint(saved_model, monitor='val_acc', verbose=1, save_best_only=True, mode='max')\n",
    "\n",
    "# train the model on 50 epochs while saving the best model to a file\n",
    "model.fit(train_data, train_labels, validation_data=(val_data, val_labels), epochs = 50, batch_size = 64, callbacks=[checkpoint])"
   ]
  },
  {
   "cell_type": "markdown",
   "metadata": {},
   "source": [
    "## 5. Test the model"
   ]
  },
  {
   "cell_type": "code",
   "execution_count": 67,
   "metadata": {},
   "outputs": [
    {
     "name": "stdout",
     "output_type": "stream",
     "text": [
      "Loading model....\n",
      "(497, 1)\n",
      "[[262  12]\n",
      " [  7 216]]\n"
     ]
    }
   ],
   "source": [
    "# load the model and save its predictions on test data\n",
    "print(\"Loading model....\")\n",
    "model = load_model('mymodel.hdf5')\n",
    "y_pred = model.predict(test_data)\n",
    "\n",
    "y_int = np.zeros_like(y_pred)\n",
    "print(y_int.shape)\n",
    "\n",
    "# set model's threshold to more than 0.6\n",
    "y_int[y_pred > 0.6] = 1\n",
    "\n",
    "# save and display model's confusion matrix \n",
    "confusion_matrix_result = confusion_matrix(test_labels, y_int)\n",
    "print(confusion_matrix_result)"
   ]
  },
  {
   "cell_type": "code",
   "execution_count": 68,
   "metadata": {},
   "outputs": [
    {
     "name": "stdout",
     "output_type": "stream",
     "text": [
      "Classification report \n",
      "\n",
      "              precision    recall  f1-score   support\n",
      "\n",
      "           0       0.97      0.96      0.97       274\n",
      "           1       0.95      0.97      0.96       223\n",
      "\n",
      "    accuracy                           0.96       497\n",
      "   macro avg       0.96      0.96      0.96       497\n",
      "weighted avg       0.96      0.96      0.96       497\n",
      "\n"
     ]
    }
   ],
   "source": [
    "# display model's classification report \n",
    "print('Classification report \\n\\n{}'.format(classification_report(test_labels, y_int, zero_division=0)))"
   ]
  },
  {
   "cell_type": "markdown",
   "metadata": {},
   "source": [
    "#### 5.1. Check what the model sees in images"
   ]
  },
  {
   "cell_type": "code",
   "execution_count": 105,
   "metadata": {},
   "outputs": [
    {
     "data": {
      "text/plain": [
       "'COVID/Covid (260).png'"
      ]
     },
     "execution_count": 105,
     "metadata": {},
     "output_type": "execute_result"
    }
   ],
   "source": [
    "#choose which image you want to check\n",
    "file = data['File'][11]\n",
    "file"
   ]
  },
  {
   "cell_type": "code",
   "execution_count": 158,
   "metadata": {},
   "outputs": [
    {
     "name": "stdout",
     "output_type": "stream",
     "text": [
      "WARNING:tensorflow:11 out of the last 11 calls to <function Model.make_predict_function.<locals>.predict_function at 0x0000027F813E38B0> triggered tf.function retracing. Tracing is expensive and the excessive number of tracings could be due to (1) creating @tf.function repeatedly in a loop, (2) passing tensors with different shapes, (3) passing Python objects instead of tensors. For (1), please define your @tf.function outside of the loop. For (2), @tf.function has experimental_relax_shapes=True option that relaxes argument shapes that can avoid unnecessary retracing. For (3), please refer to https://www.tensorflow.org/tutorials/customization/performance#python_or_tensor_args and https://www.tensorflow.org/api_docs/python/tf/function for  more details.\n"
     ]
    },
    {
     "data": {
      "image/png": "[encoded data removed]",
      "text/plain": [
       "<Figure size 432x288 with 16 Axes>"
      ]
     },
     "metadata": {},
     "output_type": "display_data"
    },
    {
     "data": {
      "image/png": "[encoded data removed]",
      "text/plain": [
       "<Figure size 432x288 with 16 Axes>"
      ]
     },
     "metadata": {},
     "output_type": "display_data"
    },
    {
     "data": {
      "image/png": "[encoded data removed]",
      "text/plain": [
       "<Figure size 432x288 with 16 Axes>"
      ]
     },
     "metadata": {},
     "output_type": "display_data"
    },
    {
     "data": {
      "image/png": "[encoded data removed]",
      "text/plain": [
       "<Figure size 432x288 with 16 Axes>"
      ]
     },
     "metadata": {},
     "output_type": "display_data"
    },
    {
     "data": {
      "image/png": "[encoded data removed]",
      "text/plain": [
       "<Figure size 432x288 with 16 Axes>"
      ]
     },
     "metadata": {},
     "output_type": "display_data"
    },
    {
     "data": {
      "image/png": "[encoded data removed]",
      "text/plain": [
       "<Figure size 432x288 with 16 Axes>"
      ]
     },
     "metadata": {},
     "output_type": "display_data"
    }
   ],
   "source": [
    "# redefine model to output right after the first hidden layer\n",
    "ixs = [1,2,3,4,5,6] #layers\n",
    "outputs = [model.layers[i].output for i in ixs]\n",
    "model = Model(inputs=model.inputs, outputs=outputs)\n",
    "# load the image with the required shape\n",
    "img = load_img(os.path.join(source_dir, file), target_size=(64,64))\n",
    "\n",
    "# convert the image to an array\n",
    "img = img_to_array(img)\n",
    "img = cv2.cvtColor(img, cv2.COLOR_BGR2GRAY)\n",
    "# expand dimensions so that it represents a single 'sample'\n",
    "img = expand_dims(img, axis=0)\n",
    "img = expand_dims(img, axis=3)\n",
    "# prepare the image (e.g. scale pixel values for the cnn)\n",
    "# img = preprocess_input(img)\n",
    "# get feature map for first hidden layer\n",
    "feature_maps = model.predict(img)\n",
    "# plot the output from each block\n",
    "square = 4\n",
    "for fmap in feature_maps:\n",
    "\t# plot all 64 maps \n",
    "\tix = 1\n",
    "\tfor _ in range(square):\n",
    "\t\tfor _ in range(square):\n",
    "\t\t\t# specify subplot and turn of axis\n",
    "\t\t\tax = plt.subplot(square, square, ix)\n",
    "\t\t\tax.set_xticks([])\n",
    "\t\t\tax.set_yticks([])\n",
    "\t\t\t# plot filter channel in grayscale\n",
    "\t\t\tplt.imshow(fmap[0, :, :, ix-1], cmap='gray')\n",
    "\t\t\tix += 1\n",
    "\t# show the figure\n",
    "\tplt.show()\n",
    "    "
   ]
  }
 ],
 "metadata": {
  "kernelspec": {
   "display_name": "Python 3",
   "language": "python",
   "name": "python3"
  },
  "language_info": {
   "codemirror_mode": {
    "name": "ipython",
    "version": 3
   },
   "file_extension": ".py",
   "mimetype": "text/x-python",
   "name": "python",
   "nbconvert_exporter": "python",
   "pygments_lexer": "ipython3",
   "version": "3.8.3"
  }
 },
 "nbformat": 4,
 "nbformat_minor": 4
}
